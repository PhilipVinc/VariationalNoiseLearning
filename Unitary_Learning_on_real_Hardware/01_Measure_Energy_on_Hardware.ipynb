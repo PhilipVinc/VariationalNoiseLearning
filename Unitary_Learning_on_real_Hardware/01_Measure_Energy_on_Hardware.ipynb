{
 "cells": [
  {
   "cell_type": "code",
   "execution_count": 29,
   "id": "ab6f2c14",
   "metadata": {},
   "outputs": [],
   "source": [
    "import qiskit\n",
    "from qiskit import IBMQ\n",
    "\n",
    "import numpy as np\n",
    "from qiskit.opflow import MatrixOp\n",
    "from qiskit.utils import QuantumInstance\n",
    "from qiskit.opflow import PauliExpectation\n",
    "from qiskit.opflow import CircuitSampler\n",
    "from qiskit.circuit import QuantumCircuit, QuantumRegister, Parameter, ParameterVector, ParameterExpression\n",
    "from qiskit.opflow import Z, X, I, StateFn, CircuitStateFn, SummedOp\n",
    "\n",
    "from itertools import product"
   ]
  },
  {
   "cell_type": "code",
   "execution_count": 30,
   "id": "d4511035",
   "metadata": {},
   "outputs": [
    {
     "name": "stderr",
     "output_type": "stream",
     "text": [
      "ibmqfactory.load_account:WARNING:2021-11-22 15:14:33,718: Credentials are already in use. The existing account in the session will be replaced.\n"
     ]
    },
    {
     "data": {
      "text/plain": [
       "[<AccountProvider for IBMQ(hub='ibm-q', group='open', project='main')>,\n",
       " <AccountProvider for IBMQ(hub='ibm-q-research-2', group='epfl-4', project='main')>]"
      ]
     },
     "execution_count": 30,
     "metadata": {},
     "output_type": "execute_result"
    }
   ],
   "source": [
    "# IBMQ.save_account(\"TOKEN\")\n",
    "IBMQ.load_account() # Load account from disk\n",
    "IBMQ.providers()    # List all available providers"
   ]
  },
  {
   "cell_type": "code",
   "execution_count": 31,
   "id": "f89da63f",
   "metadata": {},
   "outputs": [],
   "source": [
    "provider = IBMQ.get_provider(hub='ibm-q-research-2')\n",
    "backend = provider.get_backend('ibmq_guadalupe')"
   ]
  },
  {
   "cell_type": "code",
   "execution_count": 9,
   "id": "b78a9b58",
   "metadata": {},
   "outputs": [],
   "source": [
    "def circuit(string = \"0000\", n_layers = 4, n_qubits = 4):\n",
    "    params = ParameterVector('theta', length=n_layers*n_qubits)\n",
    "    it = iter(params)\n",
    "    C = QuantumCircuit(n_qubits)\n",
    "    C.initialize(string)\n",
    "\n",
    "    for j in range(n_layers):\n",
    "        for i in range(n_qubits):\n",
    "            C.rx(next(it), i)\n",
    "\n",
    "        for i in range(n_layers-1):\n",
    "            C.cx(i, i+1)\n",
    "\n",
    "        C.barrier()\n",
    "    return C, params"
   ]
  },
  {
   "cell_type": "code",
   "execution_count": 27,
   "id": "d2053af1",
   "metadata": {},
   "outputs": [],
   "source": [
    "diag = np.arange(-1, 15)\n",
    "H = MatrixOp(np.diag(diag)).to_pauli_op()\n",
    "\n",
    "q_instance = QuantumInstance(backend=backend)#, shots=8192)\n",
    "\n",
    "n_qubits = 4\n",
    "n_layers = 2\n",
    "\n",
    "\n",
    "def loss_fct(value):\n",
    "    out = 0\n",
    "    for i, string in enumerate([''.join(p) for p in product('10', repeat=n_qubits)]):\n",
    "        circ1, _ = circuit(string = string, n_qubits = n_qubits, n_layers = n_layers)\n",
    "        circ1 = circ1.decompose()\n",
    "        circ1_bound = circ1.bind_parameters(value)\n",
    "        psi = CircuitStateFn(primitive=circ1_bound, coeff=1.)\n",
    "        measurable_expression = StateFn(H, is_measurement=True).compose(psi) \n",
    "        expectation = PauliExpectation().convert(measurable_expression)  \n",
    "        sampler = CircuitSampler(q_instance).convert(expectation) \n",
    "        energy = sampler.eval().real\n",
    "        out += (energy - diag[i])**2\n",
    "    return out"
   ]
  },
  {
   "cell_type": "code",
   "execution_count": 32,
   "id": "402d3511",
   "metadata": {},
   "outputs": [],
   "source": [
    "value = np.random.rand(n_qubits*n_layers)\n",
    "loss_fct(value)"
   ]
  }
 ],
 "metadata": {
  "kernelspec": {
   "display_name": "Python 3 (ipykernel)",
   "language": "python",
   "name": "python3"
  },
  "language_info": {
   "codemirror_mode": {
    "name": "ipython",
    "version": 3
   },
   "file_extension": ".py",
   "mimetype": "text/x-python",
   "name": "python",
   "nbconvert_exporter": "python",
   "pygments_lexer": "ipython3",
   "version": "3.9.7"
  }
 },
 "nbformat": 4,
 "nbformat_minor": 5
}
