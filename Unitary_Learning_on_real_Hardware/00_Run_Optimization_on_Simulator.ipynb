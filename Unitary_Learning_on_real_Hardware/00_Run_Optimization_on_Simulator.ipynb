{
 "cells": [
  {
   "cell_type": "code",
   "execution_count": 8,
   "id": "9b99558f",
   "metadata": {},
   "outputs": [],
   "source": [
    "from qiskit import QuantumCircuit, QuantumRegister, Aer, transpile, assemble\n",
    "from qiskit.visualization import array_to_latex\n",
    "\n",
    "from qiskit.providers.aer.noise import NoiseModel\n",
    "from qiskit.providers.aer.noise.errors import pauli_error, depolarizing_error\n",
    "\n",
    "from qiskit.utils import QuantumInstance\n",
    "from qiskit.opflow import PauliExpectation\n",
    "from qiskit.opflow import CircuitSampler\n",
    "from qiskit import Aer, BasicAer\n",
    "\n",
    "#General imports\n",
    "import numpy as np\n",
    "\n",
    "#Operator Imports\n",
    "from qiskit.opflow import Z, X, I, StateFn, CircuitStateFn, SummedOp\n",
    "from qiskit.opflow.gradients import Gradient, NaturalGradient, QFI, Hessian\n",
    "\n",
    "#Circuit imports\n",
    "from qiskit.circuit import QuantumCircuit, QuantumRegister, Parameter, ParameterVector, ParameterExpression\n",
    "from qiskit.circuit.library import EfficientSU2\n",
    "\n",
    "from qiskit.opflow import MatrixOp\n",
    "\n",
    "import scipy.optimize as opt\n",
    "from qiskit.algorithms.optimizers import SciPyOptimizer\n",
    "\n",
    "from scipy.optimize import minimize\n",
    "from itertools import product"
   ]
  },
  {
   "cell_type": "code",
   "execution_count": 9,
   "id": "cc9197b5",
   "metadata": {},
   "outputs": [],
   "source": [
    "def circuit(string = \"0000\", n_layers = 4, n_qubits = 4):\n",
    "    params = ParameterVector('theta', length=n_layers*n_qubits)\n",
    "    it = iter(params)\n",
    "    C = QuantumCircuit(n_qubits)\n",
    "    C.initialize(string)\n",
    "\n",
    "    for j in range(n_layers):\n",
    "        for i in range(n_qubits):\n",
    "            C.rx(next(it), i)\n",
    "\n",
    "        for i in range(n_layers-1):\n",
    "            C.cx(i, i+1)\n",
    "\n",
    "        C.barrier()\n",
    "    return C, params"
   ]
  },
  {
   "cell_type": "code",
   "execution_count": 31,
   "id": "66bdff69",
   "metadata": {},
   "outputs": [],
   "source": [
    "diag = np.arange(-1, 15)\n",
    "H = MatrixOp(np.diag(diag)).to_pauli_op()\n",
    "\n",
    "backend = Aer.get_backend('qasm_simulator')\n",
    "q_instance = QuantumInstance(backend=backend)#, shots=8192)\n",
    "\n",
    "n_qubits = 4\n",
    "n_layers = 2\n",
    "\n",
    "\n",
    "def loss_fct(value):\n",
    "    out = 0\n",
    "    for i, string in enumerate([''.join(p) for p in product('10', repeat=n_qubits)]):\n",
    "        circ1, _ = circuit(string = string, n_qubits = n_qubits, n_layers = n_layers)\n",
    "        circ1 = circ1.decompose()\n",
    "        circ1_bound = circ1.bind_parameters(value)\n",
    "        psi = CircuitStateFn(primitive=circ1_bound, coeff=1.)\n",
    "        measurable_expression = StateFn(H, is_measurement=True).compose(psi) \n",
    "        expectation = PauliExpectation().convert(measurable_expression)  \n",
    "        sampler = CircuitSampler(q_instance).convert(expectation) \n",
    "        energy = sampler.eval().real\n",
    "        out += (energy - diag[i])**2\n",
    "    return out\n",
    "\n",
    "params_init = 4.\n",
    "#O = SciPyOptimizer(\"COBYLA\")\n",
    "#O.optimize(loss_fct, params)\n",
    "value = np.random.rand(n_qubits*n_layers)\n",
    "result = minimize(loss_fct, value, method=\"COBYLA\")"
   ]
  },
  {
   "cell_type": "code",
   "execution_count": 28,
   "id": "d5270929",
   "metadata": {},
   "outputs": [
    {
     "data": {
      "text/plain": [
       "(11.004414194422688+0j)"
      ]
     },
     "execution_count": 28,
     "metadata": {},
     "output_type": "execute_result"
    }
   ],
   "source": [
    "values_end = result.x\n",
    "circ1, _ = circuit(string = \"0011\", n_qubits = n_qubits, n_layers = n_layers)\n",
    "circ1_bound = circ1.bind_parameters(values_end)\n",
    "op = ~StateFn(H) @ CircuitStateFn(primitive=circ1_bound, coeff=1.)\n",
    "energy = op.eval()\n",
    "energy"
   ]
  }
 ],
 "metadata": {
  "kernelspec": {
   "display_name": "Python 3 (ipykernel)",
   "language": "python",
   "name": "python3"
  },
  "language_info": {
   "codemirror_mode": {
    "name": "ipython",
    "version": 3
   },
   "file_extension": ".py",
   "mimetype": "text/x-python",
   "name": "python",
   "nbconvert_exporter": "python",
   "pygments_lexer": "ipython3",
   "version": "3.9.7"
  }
 },
 "nbformat": 4,
 "nbformat_minor": 5
}
